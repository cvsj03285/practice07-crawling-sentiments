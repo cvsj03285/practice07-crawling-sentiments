{
 "cells": [
  {
   "cell_type": "markdown",
   "metadata": {},
   "source": [
    "# Python Crawling Practice \n",
    "date: 2020-06-17"
   ]
  },
  {
   "cell_type": "markdown",
   "metadata": {},
   "source": [
    "## 1.Get the news title from website\n",
    "\n",
    "Retrieve the news title using `requests` and `BeautifulSoup`\n",
    "\n",
    "### Website Link\n",
    "- [台股鉅亨網](https://news.cnyes.com/news/cat/tw_stock_news?exp=a)\n",
    "- [財經新報](https://finance.technews.tw/)"
   ]
  },
  {
   "cell_type": "code",
   "execution_count": 1,
   "metadata": {},
   "outputs": [],
   "source": [
    "# import crawling libraries\n",
    "import requests\n",
    "from bs4 import BeautifulSoup"
   ]
  },
  {
   "cell_type": "code",
   "execution_count": 65,
   "metadata": {
    "scrolled": true
   },
   "outputs": [
    {
     "name": "stdout",
     "output_type": "stream",
     "text": [
      "〈期交所董座交接〉吳自心上任關注期貨稅務 富時100期貨下半年上市\n",
      "〈亞太電股東會〉資費將超過千元 力拚5G用戶轉換率持平市場平均達1成\n",
      "〈友達股東會〉擴充台灣高階、模組產能 6月完成建置2條智慧化產線\n",
      "〈鴻海新風貌〉新官網首重投資人服務 全球布局一覽無遺 10:18上線致敬郭台銘\n",
      "〈特力股東會〉何湯雄看去年獲利是谷底 今年將較去年好\n",
      "授權收入穩定貢獻 華研今年營運可望維持成長\n",
      "〈茂矽股東會〉攜國際IDM推新品 切入安卓手機大廠\n",
      "鈊象今年樂觀 下半年可望優於上半年\n",
      "〈廣明股東會〉林百里、梁次震退出董事會 廣明：數月前已決定無關訴訟\n",
      "〈亞太電股東會〉呂芳銘：三共為5G未來趨勢 開台時間不會比同業慢超過一個月\n",
      "董座唐榮椿遭爆涉洗錢 汎德永業：不影響公司財務\n",
      "〈茂矽股東會〉筆電、醫療急單挹注 Q2本業估維持獲利 下半年保守看\n",
      "〈期交所董座交接〉吳自心上任 黃天牧交辦一任務、四期許\n",
      "健鼎通過每股股息7.25元 稱霸PCB廠\n",
      "〈鴻海新風貌〉鴻海研究院揭牌 建構200人團隊鎖定五大前瞻技術\n",
      "統一超羅智先：面對疫情天災 看不懂下半年景氣\n",
      "〈特力股東會〉零售擁二大動能 將擴大開特力屋社區小店\n",
      "岱稜看好下半年旺季成長 主原物料PET備貨達9月 有助獲利\n",
      "個股分析／瑞磁檢測技術極具潛力\n",
      "盤前財經大事搶先讀2020年06月17日\n",
      "〈美修改華為禁令〉華為坐擁多項專利成美發展5G瓶頸 合作制定規格可望統一\n",
      "〈美修改華為禁令〉5G進展將加速 聯發科可望受惠\n",
      "汎銓訂單量持續上升 預計明年登興櫃\n",
      "PIDA前執行長黃稟洲 接任友訊營運長暨發言人\n",
      "破解二次疫情 5G跨足防疫新生活 端午節前買好買滿？\n",
      "廣明前5月純益3.12億元 EPS 1.12元\n",
      "碩辣椒自製手遊新作《戦国RENKAズーム!》 9月進軍日本市場\n",
      "瀚宇博取得嘉聯益2席董事 焦佑衡任副董\n",
      "展旺前5月純益1.23億元 較去年轉盈 每股賺0.46元\n",
      "智晶醫療產品需求穩 布局系統整合效益下半年發酵\n"
     ]
    }
   ],
   "source": [
    "# 台股鉅亨網標題\n",
    "url_1 = 'https://news.cnyes.com/news/cat/tw_stock_news?exp=a'\n",
    "r_1 = requests.get(url_1)\n",
    "soup_1 = BeautifulSoup(r_1.text)\n",
    "title_list_1 = soup_1.select('div._2bFl h3')\n",
    "for i in title_list_1:\n",
    "    print(i.text)"
   ]
  },
  {
   "cell_type": "code",
   "execution_count": 30,
   "metadata": {},
   "outputs": [
    {
     "name": "stdout",
     "output_type": "stream",
     "text": [
      "華爾街氣氛跟過分樂觀完全沾不上邊，78% 經理人喊高估\n",
      "中國推動數位人民幣最新進展，可能重現大東亞共榮圈？\n",
      "鮑爾憂經濟、中國二波疫情蠢動，金價有撐\n",
      "日央行總裁：日本景氣處於極嚴峻狀態\n",
      "Spotify 控濫用優勢，蘋果面臨歐盟反壟斷調查\n",
      "佛州疫情惡化，挪威郵輪宣布停駛時間延至 9 月底\n",
      "群創變身斜槓企業，藉面板生產自動化經驗協助客戶提高生產效能\n",
      "傳騰訊將收購愛奇藝大部分股權，降低營運成本\n",
      "宏達電：藉中階 5G 手機搶市合需求，短期不推其他品牌 5G 處理器手機\n",
      "美屆臨退休族群近 1/3 認賠殺出，錯過美股反彈\n",
      "Robinhood 展延過多信用？選擇權新手不幸欠債 70 萬美元\n",
      "傳軟銀將出售 T-Mobile 股票，總額約 200 億美元\n",
      "訂單排到年底！疫情掀起歐美單車熱，台兩大廠急單殺到\n",
      "馬化騰再度減持騰訊，今年累計套現逾 60 億港元\n",
      "藏富於民，台灣高居全球第 5 大淨債權國\n"
     ]
    }
   ],
   "source": [
    "# 財經新報標題\n",
    "url_2 = 'https://finance.technews.tw/'\n",
    "r_2 = requests.get(url_2)\n",
    "soup_2 = BeautifulSoup(r_2.text)\n",
    "title_list_2 = soup_2.select('div.content h1')\n",
    "for i in title_list_2:\n",
    "    print(i.text)"
   ]
  },
  {
   "cell_type": "code",
   "execution_count": 51,
   "metadata": {},
   "outputs": [
    {
     "name": "stdout",
     "output_type": "stream",
     "text": [
      "〈特力股東會〉何湯雄看去年獲利是谷底 今年將較去年好 | Anue鉅亨 - 台股新聞\n",
      "-------------------------------------------------------------\n",
      "連鎖居家品牌貿易商特力 (2908-TW) 今 (17) 日召開股東常會，在獲利連續衰退 2 年後，特力集團總裁何湯雄表示「我覺得去年已經是最爛了」，在處分完中國虧損事業體後、加上部分虧損事業虧損幅度持續收斂，預料今年獲利一定會較去年好。\n",
      "何湯雄說，去年認列閉店損失近人民幣 1 億元，今年不再有此包袱，且其他虧損事業體虧損幅度正收斂中，再加上百貨公司櫃位有降租情勢，今年肯定獲利可較去年好。\n",
      "面對疫情衝擊，何湯雄坦言，在此嚴峻環境下，小公司真的會被淘汰，但是對特力而言，「每一次危機就是很大轉機」，對後市並不看淡。\n",
      "特力目前成長動能最穩定的是貿易事業，何湯雄說，「貿易是 always there」，並不會因近年的反全球化趨勢受太大影響，即便今年有疫情來襲，截至目前主要客戶並未取消貿易訂單，「6-8 月出貨都還不錯」，並強調，在市場快速變化下， 現在已經不只是做純貿易，「特力已是貿易服務公司」，將積極發展起目前市場上並未見的貿易平台，整合採購商和供應商，這是特力的競爭優勢。\n",
      "另一方面，何湯雄進一步表示，服務業不太好走，現在消費者要求的服務都要很精準且快速，再加上 30 歲以下的消費者快速流失，因此，旗下零售事業體必須不斷創新並發展電商，並透露不排除在南部增設國內第二座物流中心。\n"
     ]
    }
   ],
   "source": [
    "# 財經新報標題+內文\n",
    "url_3 = 'https://news.cnyes.com/news/id/4494412?exp=a'\n",
    "r_3 = requests.get(url_3)\n",
    "soup_3 = BeautifulSoup(r_3.text)\n",
    "content = soup_3.select('div._2E8y p')\n",
    "print(soup_3.title.text)\n",
    "print('-------------------------------------------------------------')\n",
    "for i in content:\n",
    "    print(i.text)\n"
   ]
  },
  {
   "cell_type": "code",
   "execution_count": 92,
   "metadata": {},
   "outputs": [],
   "source": [
    "def crawling_news(url,selection):\n",
    "    '''\n",
    "    import requests and BeautifulSoup in advance\n",
    "    url must be presented in string format\n",
    "    this function will generate news title and content\n",
    "    '''\n",
    "    response = requests.get(url)\n",
    "    soup = BeautifulSoup(response.text)\n",
    "    result_list = soup.select(selection)\n",
    "    print(soup.title.text) # this will be news title\n",
    "    print('-------------------------------------------------------------')\n",
    "    for i in result_list: \n",
    "        print(i.text) # this will be news content\n",
    "    \n",
    "    "
   ]
  },
  {
   "cell_type": "code",
   "execution_count": 55,
   "metadata": {
    "scrolled": false
   },
   "outputs": [
    {
     "name": "stdout",
     "output_type": "stream",
     "text": [
      "〈特力股東會〉何湯雄看去年獲利是谷底 今年將較去年好 | Anue鉅亨 - 台股新聞\n",
      "-------------------------------------------------------------\n",
      "連鎖居家品牌貿易商特力 (2908-TW) 今 (17) 日召開股東常會，在獲利連續衰退 2 年後，特力集團總裁何湯雄表示「我覺得去年已經是最爛了」，在處分完中國虧損事業體後、加上部分虧損事業虧損幅度持續收斂，預料今年獲利一定會較去年好。\n",
      "何湯雄說，去年認列閉店損失近人民幣 1 億元，今年不再有此包袱，且其他虧損事業體虧損幅度正收斂中，再加上百貨公司櫃位有降租情勢，今年肯定獲利可較去年好。\n",
      "面對疫情衝擊，何湯雄坦言，在此嚴峻環境下，小公司真的會被淘汰，但是對特力而言，「每一次危機就是很大轉機」，對後市並不看淡。\n",
      "特力目前成長動能最穩定的是貿易事業，何湯雄說，「貿易是 always there」，並不會因近年的反全球化趨勢受太大影響，即便今年有疫情來襲，截至目前主要客戶並未取消貿易訂單，「6-8 月出貨都還不錯」，並強調，在市場快速變化下， 現在已經不只是做純貿易，「特力已是貿易服務公司」，將積極發展起目前市場上並未見的貿易平台，整合採購商和供應商，這是特力的競爭優勢。\n",
      "另一方面，何湯雄進一步表示，服務業不太好走，現在消費者要求的服務都要很精準且快速，再加上 30 歲以下的消費者快速流失，因此，旗下零售事業體必須不斷創新並發展電商，並透露不排除在南部增設國內第二座物流中心。\n"
     ]
    }
   ],
   "source": [
    "# use function to retrive the same news title and content\n",
    "crawling_news('https://news.cnyes.com/news/id/4494412?exp=a','div._2E8y p')"
   ]
  },
  {
   "cell_type": "markdown",
   "metadata": {},
   "source": [
    "## 2. Calculate the Sentiment in Chinese(計算中文情緒指標)\n",
    "Analyze the emotions based on title we crawled"
   ]
  },
  {
   "cell_type": "markdown",
   "metadata": {},
   "source": [
    "### Relevant Libraries\n",
    "- [jieba](https://github.com/fxsjy/jieba)\n",
    "- [snownlp](https://github.com/isnowfy/snownlp)\n",
    "\n",
    "SnowNLP use for Chinese words\n",
    "\n",
    "NLP(Natural Language Processing) ==> Sentiment analysis\n",
    "\n",
    "### Website Link\n",
    "- [鉅亨台股新聞](https://news.cnyes.com/news/cat/tw_stock_news)\n",
    "- [財經新報](https://finance.technews.tw/)\n",
    "- [自由時報財經新聞](https://ec.ltn.com.tw/)"
   ]
  },
  {
   "cell_type": "code",
   "execution_count": 62,
   "metadata": {},
   "outputs": [
    {
     "name": "stdout",
     "output_type": "stream",
     "text": [
      "〈鴻海新風貌〉新官網首重投資人服務 全球布局一覽無遺 10:18上線致敬郭台銘\n",
      "〈特力股東會〉何湯雄看去年獲利是谷底 今年將較去年好\n",
      "授權收入穩定貢獻 華研今年營運可望維持成長\n",
      "〈茂矽股東會〉攜國際IDM推新品 切入安卓手機大廠\n",
      "鈊象今年樂觀 下半年可望優於上半年\n"
     ]
    }
   ],
   "source": [
    "# use title_list_1\n",
    "for i in title_list_1[:5]:\n",
    "    print(i.text)"
   ]
  },
  {
   "cell_type": "code",
   "execution_count": 57,
   "metadata": {},
   "outputs": [],
   "source": [
    "# import library we need\n",
    "from snownlp import SnowNLP"
   ]
  },
  {
   "cell_type": "code",
   "execution_count": 100,
   "metadata": {},
   "outputs": [
    {
     "name": "stdout",
     "output_type": "stream",
     "text": [
      "Positive 〈期交所董座交接〉吳自心上任關注期貨稅務 富時100期貨下半年上市 ==> 0.73346\n",
      "Positive 〈亞太電股東會〉資費將超過千元 力拚5G用戶轉換率持平市場平均達1成 ==> 0.92454\n",
      "Positive 〈友達股東會〉擴充台灣高階、模組產能 6月完成建置2條智慧化產線 ==> 0.98994\n",
      "Neutral 〈鴻海新風貌〉新官網首重投資人服務 全球布局一覽無遺 10:18上線致敬郭台銘 ==> 0.57786\n",
      "Positive 〈特力股東會〉何湯雄看去年獲利是谷底 今年將較去年好 ==> 0.95224\n",
      "Positive 授權收入穩定貢獻 華研今年營運可望維持成長 ==> 0.91241\n",
      "Neutral 〈茂矽股東會〉攜國際IDM推新品 切入安卓手機大廠 ==> 0.54546\n",
      "Neutral 鈊象今年樂觀 下半年可望優於上半年 ==> 0.52446\n",
      "Positive 〈廣明股東會〉林百里、梁次震退出董事會 廣明：數月前已決定無關訴訟 ==> 0.9016\n",
      "Positive 〈亞太電股東會〉呂芳銘：三共為5G未來趨勢 開台時間不會比同業慢超過一個月 ==> 0.64657\n"
     ]
    }
   ],
   "source": [
    "# apply SnowNLP to get emotional grades ranged from 0 to 1\n",
    "# the closer to 1 means more positive\n",
    "# the closer to 0 means more negative\n",
    "# 0.5 means neutral\n",
    "for i in title_list_1[:10]:\n",
    "    s = SnowNLP(i.text)\n",
    "    if s.sentiments > 0.6:\n",
    "        print('Positive',i.text,'==>',round(s.sentiments,5))\n",
    "    elif s.sentiments < 0.4:\n",
    "        print('Negative',i.text,'==>',round(s.sentiments,5))\n",
    "    else:\n",
    "        print('Neutral',i.text,'==>',round(s.sentiments,5))"
   ]
  },
  {
   "cell_type": "markdown",
   "metadata": {},
   "source": [
    "The main purpose of sentiments in SnowNLP is for predicting the sentiments while purchasing or shopping. If we used for other purposes, it will be unrealistic. For example, 「盤前財經大事搶先讀2020年06月17日」 should be neutral since it's just the important information before stock market opening. SnowNLP predicted it as strongly negative, so we should train the function for better prediction."
   ]
  },
  {
   "cell_type": "markdown",
   "metadata": {},
   "source": [
    "### re-Train the modle"
   ]
  },
  {
   "cell_type": "code",
   "execution_count": 67,
   "metadata": {},
   "outputs": [],
   "source": [
    "# import libraries\n",
    "import os \n",
    "import snownlp"
   ]
  },
  {
   "cell_type": "code",
   "execution_count": 68,
   "metadata": {},
   "outputs": [
    {
     "data": {
      "text/plain": [
       "'/Applications/anaconda3/lib/python3.7/site-packages/snownlp/__init__.py'"
      ]
     },
     "execution_count": 68,
     "metadata": {},
     "output_type": "execute_result"
    }
   ],
   "source": [
    "# get the position of snownlp\n",
    "snownlp.__file__"
   ]
  },
  {
   "cell_type": "code",
   "execution_count": 71,
   "metadata": {},
   "outputs": [
    {
     "name": "stdout",
     "output_type": "stream",
     "text": [
      "/Applications/anaconda3/lib/python3.7/site-packages/snownlp/sentiment/sentiment.Marshal\n"
     ]
    }
   ],
   "source": [
    "# path of model\n",
    "model_path = os.path.join(os.path.dirname(snownlp.__file__),'sentiment/sentiment.Marshal')\n",
    "print(model_path)"
   ]
  },
  {
   "cell_type": "code",
   "execution_count": 73,
   "metadata": {},
   "outputs": [],
   "source": [
    "# upload the negative and positive data collected manually\n",
    "# to train the model distinguish sentiments better\n",
    "from snownlp import sentiment\n",
    "\n",
    "sentiment.train('down.txt', 'up.txt')\n",
    "sentiment.save(model_path)\n"
   ]
  },
  {
   "cell_type": "markdown",
   "metadata": {},
   "source": [
    "### Calculate the sentiment with new model"
   ]
  },
  {
   "cell_type": "code",
   "execution_count": 99,
   "metadata": {
    "scrolled": true
   },
   "outputs": [
    {
     "name": "stdout",
     "output_type": "stream",
     "text": [
      "Positive 〈期交所董座交接〉吳自心上任關注期貨稅務 富時100期貨下半年上市 ==> 0.73346\n",
      "Positive 〈亞太電股東會〉資費將超過千元 力拚5G用戶轉換率持平市場平均達1成 ==> 0.92454\n",
      "Positive 〈友達股東會〉擴充台灣高階、模組產能 6月完成建置2條智慧化產線 ==> 0.98994\n",
      "Neutral 〈鴻海新風貌〉新官網首重投資人服務 全球布局一覽無遺 10:18上線致敬郭台銘 ==> 0.57786\n",
      "Positive 〈特力股東會〉何湯雄看去年獲利是谷底 今年將較去年好 ==> 0.95224\n",
      "Positive 授權收入穩定貢獻 華研今年營運可望維持成長 ==> 0.91241\n",
      "Neutral 〈茂矽股東會〉攜國際IDM推新品 切入安卓手機大廠 ==> 0.54546\n",
      "Neutral 鈊象今年樂觀 下半年可望優於上半年 ==> 0.52446\n",
      "Positive 〈廣明股東會〉林百里、梁次震退出董事會 廣明：數月前已決定無關訴訟 ==> 0.9016\n",
      "Positive 〈亞太電股東會〉呂芳銘：三共為5G未來趨勢 開台時間不會比同業慢超過一個月 ==> 0.64657\n"
     ]
    }
   ],
   "source": [
    "# calculate again\n",
    "for i in title_list_1[:10]:\n",
    "    s = SnowNLP(i.text)\n",
    "    if s.sentiments > 0.6:\n",
    "        print('Positive',i.text,'==>',round(s.sentiments,5))\n",
    "    elif s.sentiments < 0.4:\n",
    "        print('Negative',i.text,'==>',round(s.sentiments,5))\n",
    "    else:\n",
    "        print('Neutral',i.text,'==>',round(s.sentiments,5))"
   ]
  },
  {
   "cell_type": "markdown",
   "metadata": {},
   "source": [
    "The model was trained by small scales of data, so the result won't be precise and perfect. If we want to predict the trend better, we have to write the model ourselves and collect more data for model learning to distinguish sentiments of title."
   ]
  },
  {
   "cell_type": "markdown",
   "metadata": {},
   "source": [
    "## 3. Calculate the Sentiments in English(計算英文情緒指標)"
   ]
  },
  {
   "cell_type": "code",
   "execution_count": 80,
   "metadata": {},
   "outputs": [
    {
     "name": "stderr",
     "output_type": "stream",
     "text": [
      "[nltk_data] Downloading package vader_lexicon to\n",
      "[nltk_data]     /Users/fay/nltk_data...\n",
      "[nltk_data]   Package vader_lexicon is already up-to-date!\n"
     ]
    },
    {
     "data": {
      "text/plain": [
       "True"
      ]
     },
     "execution_count": 80,
     "metadata": {},
     "output_type": "execute_result"
    }
   ],
   "source": [
    "# import nltk library and download dataset for sentiments\n",
    "import nltk\n",
    "nltk.download('vader_lexicon')"
   ]
  },
  {
   "cell_type": "code",
   "execution_count": 75,
   "metadata": {},
   "outputs": [],
   "source": [
    "from nltk.sentiment.vader import SentimentIntensityAnalyzer"
   ]
  },
  {
   "cell_type": "code",
   "execution_count": 76,
   "metadata": {},
   "outputs": [],
   "source": [
    "# sentiments grades can be in range(-1,1)\n",
    "sid = SentimentIntensityAnalyzer()"
   ]
  },
  {
   "cell_type": "code",
   "execution_count": 82,
   "metadata": {},
   "outputs": [
    {
     "data": {
      "text/plain": [
       "{'neg': 0.0, 'neu': 0.308, 'pos': 0.692, 'compound': 0.6696}"
      ]
     },
     "execution_count": 82,
     "metadata": {},
     "output_type": "execute_result"
    }
   ],
   "source": [
    "sid.polarity_scores(\"I Love this book!\")"
   ]
  },
  {
   "cell_type": "code",
   "execution_count": 83,
   "metadata": {},
   "outputs": [
    {
     "data": {
      "text/plain": [
       "{'neg': 0.726, 'neu': 0.274, 'pos': 0.0, 'compound': -0.7437}"
      ]
     },
     "execution_count": 83,
     "metadata": {},
     "output_type": "execute_result"
    }
   ],
   "source": [
    "sid.polarity_scores(\"I HATE this book!!!\")"
   ]
  },
  {
   "cell_type": "markdown",
   "metadata": {},
   "source": [
    "### Scrawling Headline of CNN World News Headlines & Distinguish Sentiments with NLTK"
   ]
  },
  {
   "cell_type": "code",
   "execution_count": 101,
   "metadata": {},
   "outputs": [
    {
     "name": "stdout",
     "output_type": "stream",
     "text": [
      "Twenty Indian soldiers dead after clash with China along disputed border\n",
      "{'neg': 0.427, 'neu': 0.573, 'pos': 0.0, 'compound': -0.7717}\n",
      "Beijing extends residential lockdowns as coronavirus infections spread\n",
      "{'neg': 0.0, 'neu': 0.824, 'pos': 0.176, 'compound': 0.128}\n",
      "'Distressing': Reverend reveals what evangelicals say privately about Trump\n",
      "{'neg': 0.0, 'neu': 1.0, 'pos': 0.0, 'compound': 0.0}\n",
      "Brazil swipes at FDA, pushes hydroxychloroquine for pregnant women and children\n",
      "{'neg': 0.0, 'neu': 1.0, 'pos': 0.0, 'compound': 0.0}\n",
      "Mexico temporarily forbids workers from going to Canada due to coronavirus\n",
      "{'neg': 0.187, 'neu': 0.813, 'pos': 0.0, 'compound': -0.3182}\n",
      "Even if Europe wanted to break away from China post-Covid, it couldn't\n",
      "{'neg': 0.0, 'neu': 1.0, 'pos': 0.0, 'compound': 0.0}\n",
      "Amid the pandemic, a group of asylum seekers was moved to a small, rural Irish town. Then they started testing positive for Covid-19\n",
      "{'neg': 0.0, 'neu': 0.847, 'pos': 0.153, 'compound': 0.5574}\n",
      "Protesters target statue of famed Italian journalist who married a 12-year-old in Eritrea\n",
      "{'neg': 0.147, 'neu': 0.853, 'pos': 0.0, 'compound': -0.2263}\n",
      "Coronavirus death rates in Yemen's Aden could exceed its wartime fatalities\n",
      "{'neg': 0.464, 'neu': 0.536, 'pos': 0.0, 'compound': -0.8316}\n",
      "Experts fear Yemen could suffer one of the world's worst coronavirus outbreaks\n",
      "{'neg': 0.545, 'neu': 0.455, 'pos': 0.0, 'compound': -0.8957}\n"
     ]
    }
   ],
   "source": [
    "# Crawling CNN news headlines\n",
    "r = requests.get('https://edition.cnn.com/world')\n",
    "soup = BeautifulSoup(r.text)\n",
    "cnn_list = soup.select('span.cd__headline-text')\n",
    "for news in cnn_list[:10]: \n",
    "    print(news.text)\n",
    "    print(sid.polarity_scores(news.text)) # use NLTK to calculate sentiments scores of CNN World News"
   ]
  },
  {
   "cell_type": "code",
   "execution_count": 124,
   "metadata": {
    "scrolled": true
   },
   "outputs": [
    {
     "name": "stdout",
     "output_type": "stream",
     "text": [
      "India and China blame each other for deadly clash\n",
      "{'neg': 0.231, 'neu': 0.769, 'pos': 0.0, 'compound': -0.34}\n",
      "India and China blame each other for deadly clash\n",
      "{'neg': 0.231, 'neu': 0.769, 'pos': 0.0, 'compound': -0.34}\n",
      "NZ military put in charge of quarantines\n",
      "{'neg': 0.0, 'neu': 1.0, 'pos': 0.0, 'compound': 0.0}\n",
      "NZ military put in charge of quarantines\n",
      "{'neg': 0.0, 'neu': 1.0, 'pos': 0.0, 'compound': 0.0}\n",
      "S Korean minister offers to resign after explosion\n",
      "{'neg': 0.286, 'neu': 0.714, 'pos': 0.0, 'compound': -0.34}\n",
      "Beijing stops travel as virus spike continues\n",
      "{'neg': 0.211, 'neu': 0.789, 'pos': 0.0, 'compound': -0.1531}\n",
      "Facebook to let users turn off political adverts\n",
      "{'neg': 0.0, 'neu': 1.0, 'pos': 0.0, 'compound': 0.0}\n",
      "Arrest after SA woman found hanging from tree\n",
      "{'neg': 0.255, 'neu': 0.745, 'pos': 0.0, 'compound': -0.34}\n",
      "Australian teenagers film 'scary' shark encounter\n",
      "{'neg': 0.0, 'neu': 1.0, 'pos': 0.0, 'compound': 0.0}\n",
      "India and China blame each other for deadly clash\n",
      "{'neg': 0.231, 'neu': 0.769, 'pos': 0.0, 'compound': -0.34}\n",
      "NZ military put in charge of quarantines\n",
      "{'neg': 0.0, 'neu': 1.0, 'pos': 0.0, 'compound': 0.0}\n",
      "NZ military put in charge of quarantines\n",
      "{'neg': 0.0, 'neu': 1.0, 'pos': 0.0, 'compound': 0.0}\n",
      "S Korean minister offers to resign after explosion\n",
      "{'neg': 0.286, 'neu': 0.714, 'pos': 0.0, 'compound': -0.34}\n",
      "Beijing stops travel as virus spike continues\n",
      "{'neg': 0.211, 'neu': 0.789, 'pos': 0.0, 'compound': -0.1531}\n",
      "Facebook to let users turn off political adverts\n",
      "{'neg': 0.0, 'neu': 1.0, 'pos': 0.0, 'compound': 0.0}\n",
      "Arrest after SA woman found hanging from tree\n",
      "{'neg': 0.255, 'neu': 0.745, 'pos': 0.0, 'compound': -0.34}\n",
      "Australian teenagers film 'scary' shark encounter\n",
      "{'neg': 0.0, 'neu': 1.0, 'pos': 0.0, 'compound': 0.0}\n",
      "NZ military put in charge of quarantines\n",
      "{'neg': 0.0, 'neu': 1.0, 'pos': 0.0, 'compound': 0.0}\n",
      "NZ military put in charge of quarantines\n",
      "{'neg': 0.0, 'neu': 1.0, 'pos': 0.0, 'compound': 0.0}\n",
      "S Korean minister offers to resign after explosion\n",
      "{'neg': 0.286, 'neu': 0.714, 'pos': 0.0, 'compound': -0.34}\n",
      "Beijing stops travel as virus spike continues\n",
      "{'neg': 0.211, 'neu': 0.789, 'pos': 0.0, 'compound': -0.1531}\n",
      "Facebook to let users turn off political adverts\n",
      "{'neg': 0.0, 'neu': 1.0, 'pos': 0.0, 'compound': 0.0}\n",
      "Arrest after SA woman found hanging from tree\n",
      "{'neg': 0.255, 'neu': 0.745, 'pos': 0.0, 'compound': -0.34}\n",
      "Australian teenagers film 'scary' shark encounter\n",
      "{'neg': 0.0, 'neu': 1.0, 'pos': 0.0, 'compound': 0.0}\n",
      "Trump administration sues to block Bolton book\n",
      "{'neg': 0.326, 'neu': 0.674, 'pos': 0.0, 'compound': -0.4404}\n",
      "Power firm admits deadliest US corporate crime\n",
      "{'neg': 0.327, 'neu': 0.467, 'pos': 0.206, 'compound': -0.3182}\n",
      "'Heart attack' judge actually 'stabbed in the head'\n",
      "{'neg': 0.5, 'neu': 0.5, 'pos': 0.0, 'compound': -0.7184}\n",
      "UN experts condemn Israel's W Bank annexation plan\n",
      "{'neg': 0.302, 'neu': 0.698, 'pos': 0.0, 'compound': -0.3818}\n",
      "Men's 100m champ suspended for missed tests\n",
      "{'neg': 0.427, 'neu': 0.323, 'pos': 0.25, 'compound': -0.296}\n",
      "Is Zimbabwe once more on the brink of collapse?\n",
      "{'neg': 0.286, 'neu': 0.714, 'pos': 0.0, 'compound': -0.4939}\n",
      "How a disobedient diplomat saved Jews in WW2\n",
      "{'neg': 0.0, 'neu': 0.682, 'pos': 0.318, 'compound': 0.4215}\n",
      "'India's healthcare system failed my family'\n",
      "{'neg': 0.398, 'neu': 0.602, 'pos': 0.0, 'compound': -0.5106}\n",
      "The blogger who hit back at a Russian 'assassin'\n",
      "{'neg': 0.0, 'neu': 1.0, 'pos': 0.0, 'compound': 0.0}\n",
      "Two towers become one in Australian architectural first\n",
      "{'neg': 0.0, 'neu': 1.0, 'pos': 0.0, 'compound': 0.0}\n",
      "Who is Kim Yo-jong?\n",
      "{'neg': 0.0, 'neu': 1.0, 'pos': 0.0, 'compound': 0.0}\n",
      "Eyewitnesses recount George Floyd's harrowing death\n",
      "{'neg': 0.438, 'neu': 0.562, 'pos': 0.0, 'compound': -0.5994}\n",
      "War, algae, virus: The beach that won't be beaten\n",
      "{'neg': 0.295, 'neu': 0.529, 'pos': 0.176, 'compound': -0.3753}\n",
      "Solving the mystery of the 'ugly, dirty diamond'\n",
      "{'neg': 0.228, 'neu': 0.394, 'pos': 0.378, 'compound': 0.2263}\n",
      "'Life shouldn't be this complicated'\n",
      "{'neg': 0.0, 'neu': 1.0, 'pos': 0.0, 'compound': 0.0}\n",
      "Irish pubs and restaurants could cut 2 metre rule\n",
      "{'neg': 0.231, 'neu': 0.769, 'pos': 0.0, 'compound': -0.2732}\n",
      "Coronavirus: Where are cases still rising?\n",
      "{'neg': 0.0, 'neu': 1.0, 'pos': 0.0, 'compound': 0.0}\n",
      "Arrest after SA woman found hanging from tree\n",
      "{'neg': 0.255, 'neu': 0.745, 'pos': 0.0, 'compound': -0.34}\n",
      "Lockdown taught me that everything needs to change\n",
      "{'neg': 0.0, 'neu': 1.0, 'pos': 0.0, 'compound': 0.0}\n",
      "'Life is more important than the Premier League'\n",
      "{'neg': 0.0, 'neu': 0.77, 'pos': 0.23, 'compound': 0.2716}\n",
      "S Korean minister offers to resign after explosion\n",
      "{'neg': 0.286, 'neu': 0.714, 'pos': 0.0, 'compound': -0.34}\n",
      "North Korean TV shows office explosion\n",
      "{'neg': 0.0, 'neu': 1.0, 'pos': 0.0, 'compound': 0.0}\n",
      "Is Zimbabwe once more on the brink of collapse?\n",
      "{'neg': 0.286, 'neu': 0.714, 'pos': 0.0, 'compound': -0.4939}\n",
      "Buhari calls for patience in tackling bandits\n",
      "{'neg': 0.0, 'neu': 1.0, 'pos': 0.0, 'compound': 0.0}\n",
      "Airline explains reference to Naira Marley as 'useless'\n",
      "{'neg': 0.0, 'neu': 1.0, 'pos': 0.0, 'compound': 0.0}\n",
      "How our world could get quieter\n",
      "{'neg': 0.0, 'neu': 1.0, 'pos': 0.0, 'compound': 0.0}\n",
      "The lessons hiding in our failures\n",
      "{'neg': 0.565, 'neu': 0.435, 'pos': 0.0, 'compound': -0.6369}\n",
      "The fried dough the world loves\n",
      "{'neg': 0.0, 'neu': 0.575, 'pos': 0.425, 'compound': 0.5719}\n",
      "Short stories for every taste and mood\n",
      "{'neg': 0.0, 'neu': 1.0, 'pos': 0.0, 'compound': 0.0}\n",
      "How much of your body is actually you?\n",
      "{'neg': 0.0, 'neu': 1.0, 'pos': 0.0, 'compound': 0.0}\n",
      "How to ‘undo’ carbon emissions for good\n",
      "{'neg': 0.0, 'neu': 0.674, 'pos': 0.326, 'compound': 0.4404}\n",
      "Why great performers make bad managers\n",
      "{'neg': 0.302, 'neu': 0.345, 'pos': 0.353, 'compound': 0.1531}\n",
      "News daily newsletter\n",
      "{'neg': 0.0, 'neu': 1.0, 'pos': 0.0, 'compound': 0.0}\n",
      "Mobile app\n",
      "{'neg': 0.0, 'neu': 1.0, 'pos': 0.0, 'compound': 0.0}\n",
      "Get in touch\n",
      "{'neg': 0.0, 'neu': 1.0, 'pos': 0.0, 'compound': 0.0}\n"
     ]
    }
   ],
   "source": [
    "# crawling content from BBC and calculate sentiments scores\n",
    "r = requests.get('https://www.bbc.com/news/world')\n",
    "soup = BeautifulSoup(r.text)\n",
    "nba_list = soup.select('h3')\n",
    "for i in nba_list:\n",
    "    print(i.text)\n",
    "    print(sid.polarity_scores(i.text))"
   ]
  },
  {
   "cell_type": "code",
   "execution_count": null,
   "metadata": {},
   "outputs": [],
   "source": []
  }
 ],
 "metadata": {
  "kernelspec": {
   "display_name": "Python 3",
   "language": "python",
   "name": "python3"
  },
  "language_info": {
   "codemirror_mode": {
    "name": "ipython",
    "version": 3
   },
   "file_extension": ".py",
   "mimetype": "text/x-python",
   "name": "python",
   "nbconvert_exporter": "python",
   "pygments_lexer": "ipython3",
   "version": "3.7.6"
  }
 },
 "nbformat": 4,
 "nbformat_minor": 4
}
